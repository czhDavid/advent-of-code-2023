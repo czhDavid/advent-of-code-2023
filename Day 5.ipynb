{
 "cells": [
  {
   "cell_type": "markdown",
   "id": "15b79c03",
   "metadata": {},
   "source": [
    "--- Day 5: If You Give A Seed A Fertilizer ---\n",
    "\n",
    "You take the boat and find the gardener right where you were told he would be: managing a giant \"garden\" that looks more to you like a farm.\n",
    "\n",
    "\"A water source? Island Island is the water source!\" You point out that Snow Island isn't receiving any water.\n",
    "\n",
    "\"Oh, we had to stop the water because we ran out of sand to filter it with! Can't make snow with dirty water. Don't worry, I'm sure we'll get more sand soon; we only turned off the water a few days... weeks... oh no.\" His face sinks into a look of horrified realization.\n",
    "\n",
    "\"I've been so busy making sure everyone here has food that I completely forgot to check why we stopped getting more sand! There's a ferry leaving soon that is headed over in that direction - it's much faster than your boat. Could you please go check it out?\"\n",
    "\n",
    "You barely have time to agree to this request when he brings up another. \"While you wait for the ferry, maybe you can help us with our food production problem. The latest Island Island Almanac just arrived and we're having trouble making sense of it.\"\n",
    "\n",
    "The almanac (your puzzle input) lists all of the seeds that need to be planted. It also lists what type of soil to use with each kind of seed, what type of fertilizer to use with each kind of soil, what type of water to use with each kind of fertilizer, and so on. Every type of seed, soil, fertilizer and so on is identified with a number, but numbers are reused by each category - that is, soil 123 and fertilizer 123 aren't necessarily related to each other."
   ]
  },
  {
   "cell_type": "code",
   "execution_count": 43,
   "id": "82a89ac0",
   "metadata": {},
   "outputs": [],
   "source": [
    "day5testFile = open('day5test.txt', 'r')"
   ]
  },
  {
   "cell_type": "code",
   "execution_count": 12,
   "id": "7cf00374",
   "metadata": {},
   "outputs": [],
   "source": [
    "import re"
   ]
  },
  {
   "cell_type": "code",
   "execution_count": 44,
   "id": "c47b4e88",
   "metadata": {},
   "outputs": [],
   "source": [
    "#read the seeds\n",
    "seedsLine = day5testFile.readline()\n",
    "seeds = seedsLine.split(':')[1].strip().split(' ')"
   ]
  },
  {
   "cell_type": "code",
   "execution_count": 11,
   "id": "a867fddd",
   "metadata": {},
   "outputs": [],
   "source": [
    "maps = {}"
   ]
  },
  {
   "cell_type": "code",
   "execution_count": 45,
   "id": "fa3cf25b",
   "metadata": {},
   "outputs": [],
   "source": [
    "currentMatchKey = ''\n",
    "for line in day5testFile:\n",
    "    if line == '':\n",
    "        continue\n",
    "    m = re.search('(\\w+)-to-(\\w+)', line)\n",
    "    if m != None:\n",
    "        currentMatchKey = f\"{m[1]}-{m[2]}\"\n",
    "        continue\n",
    "    maps{currentMatchKey}"
   ]
  },
  {
   "cell_type": "code",
   "execution_count": 33,
   "id": "3dd38f65",
   "metadata": {},
   "outputs": [],
   "source": [
    "s = 'soil-to-fertilizer map'\n",
    "m = re.search('(\\w+)-to-(\\w+)', s)"
   ]
  },
  {
   "cell_type": "code",
   "execution_count": 46,
   "id": "c7c8642d",
   "metadata": {},
   "outputs": [
    {
     "data": {
      "text/plain": [
       "'seed-soil'"
      ]
     },
     "execution_count": 46,
     "metadata": {},
     "output_type": "execute_result"
    }
   ],
   "source": [
    "currentMatchKey"
   ]
  }
 ],
 "metadata": {
  "kernelspec": {
   "display_name": "Python 3 (ipykernel)",
   "language": "python",
   "name": "python3"
  },
  "language_info": {
   "codemirror_mode": {
    "name": "ipython",
    "version": 3
   },
   "file_extension": ".py",
   "mimetype": "text/x-python",
   "name": "python",
   "nbconvert_exporter": "python",
   "pygments_lexer": "ipython3",
   "version": "3.11.4"
  }
 },
 "nbformat": 4,
 "nbformat_minor": 5
}
