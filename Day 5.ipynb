{
 "cells": [
  {
   "cell_type": "markdown",
   "id": "15b79c03",
   "metadata": {},
   "source": [
    "--- Day 5: If You Give A Seed A Fertilizer ---\n",
    "\n",
    "You take the boat and find the gardener right where you were told he would be: managing a giant \"garden\" that looks more to you like a farm.\n",
    "\n",
    "\"A water source? Island Island is the water source!\" You point out that Snow Island isn't receiving any water.\n",
    "\n",
    "\"Oh, we had to stop the water because we ran out of sand to filter it with! Can't make snow with dirty water. Don't worry, I'm sure we'll get more sand soon; we only turned off the water a few days... weeks... oh no.\" His face sinks into a look of horrified realization.\n",
    "\n",
    "\"I've been so busy making sure everyone here has food that I completely forgot to check why we stopped getting more sand! There's a ferry leaving soon that is headed over in that direction - it's much faster than your boat. Could you please go check it out?\"\n",
    "\n",
    "You barely have time to agree to this request when he brings up another. \"While you wait for the ferry, maybe you can help us with our food production problem. The latest Island Island Almanac just arrived and we're having trouble making sense of it.\"\n",
    "\n",
    "The almanac (your puzzle input) lists all of the seeds that need to be planted. It also lists what type of soil to use with each kind of seed, what type of fertilizer to use with each kind of soil, what type of water to use with each kind of fertilizer, and so on. Every type of seed, soil, fertilizer and so on is identified with a number, but numbers are reused by each category - that is, soil 123 and fertilizer 123 aren't necessarily related to each other."
   ]
  },
  {
   "cell_type": "code",
   "execution_count": 2,
   "id": "82a89ac0",
   "metadata": {},
   "outputs": [],
   "source": [
    "day5testFile = open('day5.txt', 'r').read()\n"
   ]
  },
  {
   "cell_type": "code",
   "execution_count": 12,
   "id": "34f7cb6e",
   "metadata": {},
   "outputs": [
    {
     "name": "stdout",
     "output_type": "stream",
     "text": [
      "[(919339981, 1481784610), (3366006921, 3433834134), (1496677366, 1597834144), (4140591657, 4146449967), (2566406753, 2638131105), (2721360939, 2757260476), (383860877, 808529635), (3649554897, 4091737458), (2846055542, 2896009370), (2988140126, 3244446596)]\n"
     ]
    }
   ],
   "source": [
    "inputs = [int(x) for x in day5testFile.split('\\n\\n')[0].split(':')[1].strip().split(' ')]\n",
    "\n",
    "inputsPart2 = []\n",
    "for i in range (0,len(inputs), 2):\n",
    "    inputsPart2.append((inputs[i], inputs[i] + inputs[i+1]-1))\n",
    "    #for j in range(int(inputs[i]), int(inputs[i]) + int(inputs[i+1])):\n",
    "    #    inputsPart2.append(j)\n",
    "print(inputsPart2)\n",
    "#[x.split(':')[1] for x in day5testFile.split('\\n\\n')]"
   ]
  },
  {
   "cell_type": "code",
   "execution_count": 14,
   "id": "41980b7b",
   "metadata": {},
   "outputs": [],
   "source": [
    "maps = [x.split(':')[1].strip().split('\\n') for x in day5testFile.split('\\n\\n')[1:]]\n"
   ]
  },
  {
   "cell_type": "code",
   "execution_count": 52,
   "id": "5d76f42a",
   "metadata": {},
   "outputs": [],
   "source": [
    "def getIntersectionInterval(intervalA: tuple[int, int], intervalB: tuple[int, int]) -> tuple[int,int] | None:\n",
    "    if intervalA[0] >= intervalB[0] and intervalA[0] <= intervalB[1]:\n",
    "        return (max(intervalA[0], intervalB[0]), min(intervalA[1], intervalB[1]))\n",
    "    if intervalA[1] >= intervalB[0] and intervalA[1]<= intervalB[1]:\n",
    "        return (max(intervalA[0], intervalB[0]), min(intervalA[1], intervalB[1]))\n",
    "    return None"
   ]
  },
  {
   "cell_type": "code",
   "execution_count": 115,
   "id": "6964c92e",
   "metadata": {},
   "outputs": [],
   "source": [
    "def removeIntervalFromInterval(original: tuple[int, int], toRemove:[int,int]) -> list[tuple[int, int]]:\n",
    "    if original[0] >= toRemove[0] and original[1] <= toRemove[1]:\n",
    "        return []\n",
    "    if original[0] < toRemove[0] and original[1] > toRemove[1]:\n",
    "        return [(original[0], toRemove[0]-1), (toRemove[1]+1,original[1])]\n",
    "    if original[0] < toRemove[0]:\n",
    "        return [(original[0],toRemove[0]-1)]\n",
    "    return [(toRemove[0]+1,original[1])]\n"
   ]
  },
  {
   "cell_type": "code",
   "execution_count": null,
   "id": "76102317",
   "metadata": {},
   "outputs": [],
   "source": [
    "\n",
    "    "
   ]
  },
  {
   "cell_type": "code",
   "execution_count": 110,
   "id": "62995f47",
   "metadata": {},
   "outputs": [],
   "source": [
    "def applyMap(inp, maps,index):\n",
    "    currentMap = maps[index];\n",
    "    nextInputs =[tuple[int, int]]\n",
    "    toProcess = [inp]\n",
    "    while toProcess != []:\n",
    "        currentlyProcessing = toProcess.pop()\n",
    "        for func in currentMap:\n",
    "            dest, source, rng = [int(x) for x in func.split(' ')]\n",
    "            functionDestInterval = (dest, dest + rng -1)\n",
    "            functionSourceInterval = (source, source + rng -1)\n",
    "            intersection = getIntersectionInterval(currentlyProcessing, functionSourceInterval)\n",
    "            if intersection != None: \n",
    "                print('intersection',intersection)\n",
    "                addToBeginning = intersection[0] - functionSourceInterval[0]\n",
    "                addToEnd = intersection[1] - functionSourceInterval[1]\n",
    "                nextInputs.append((intersection[0] + addToBeginning , intersection[1] + addToEnd))\n",
    "\n",
    "                print('processing', currentlyProcessing)\n",
    "                print('next inputs', nextInputs)\n",
    "                #print(removeIntervalFromInterval(currentlyProcessing, intersection))\n",
    "                for addToProcess in removeIntervalFromInterval(currentlyProcessing, intersection):\n",
    "                    print('add to process', addToProcess)\n",
    "                    toProcess.append(addToProcess)\n",
    "                break\n",
    "        \n",
    "            \n",
    "    return applyMap(nextInputs, index+1)\n",
    "        "
   ]
  },
  {
   "cell_type": "code",
   "execution_count": 75,
   "id": "769a8d5b",
   "metadata": {},
   "outputs": [
    {
     "name": "stdout",
     "output_type": "stream",
     "text": [
      "346433842\n"
     ]
    }
   ],
   "source": [
    "res = []\n",
    "for inp in inputs:\n",
    "    for m in maps:\n",
    "        for func in m:\n",
    "            dest, source, rng = func.split(' ')\n",
    "            if int(inp) >= int(source) and int(inp) <= (int(source) + int(rng)-1):\n",
    "                inp = int(dest) - int(source) + int(inp)\n",
    "                break\n",
    "    res.append(inp)\n",
    "print(min(res))  "
   ]
  },
  {
   "cell_type": "markdown",
   "id": "0ddd335e",
   "metadata": {},
   "source": [
    "--- Part Two ---\n",
    "\n",
    "Everyone will starve if you only plant such a small number of seeds. Re-reading the almanac, it looks like the seeds: line actually describes ranges of seed numbers.\n",
    "\n",
    "The values on the initial seeds: line come in pairs. Within each pair, the first value is the start of the range and the second value is the length of the range. So, in the first line of the example above:\n",
    "\n",
    "seeds: 79 14 55 13\n",
    "This line describes two ranges of seed numbers to be planted in the garden. The first range starts with seed number 79 and contains 14 values: 79, 80, ..., 91, 92. The second range starts with seed number 55 and contains 13 values: 55, 56, ..., 66, 67.\n",
    "\n",
    "Now, rather than considering four seed numbers, you need to consider a total of 27 seed numbers.\n",
    "\n",
    "In the above example, the lowest location number can be obtained from seed number 82, which corresponds to soil 84, fertilizer 84, water 84, light 77, temperature 45, humidity 46, and location 46. So, the lowest location number is 46.\n",
    "\n",
    "Consider all of the initial seed numbers listed in the ranges on the first line of the almanac. What is the lowest location number that corresponds to any of the initial seed numbers?\n",
    "\n"
   ]
  },
  {
   "cell_type": "code",
   "execution_count": 117,
   "id": "2d38c42b",
   "metadata": {},
   "outputs": [
    {
     "name": "stderr",
     "output_type": "stream",
     "text": [
      "IOPub data rate exceeded.\n",
      "The notebook server will temporarily stop sending output\n",
      "to the client in order to avoid crashing it.\n",
      "To change this limit, set the config variable\n",
      "`--NotebookApp.iopub_data_rate_limit`.\n",
      "\n",
      "Current values:\n",
      "NotebookApp.iopub_data_rate_limit=1000000.0 (bytes/sec)\n",
      "NotebookApp.rate_limit_window=3.0 (secs)\n",
      "\n"
     ]
    },
    {
     "ename": "KeyboardInterrupt",
     "evalue": "",
     "output_type": "error",
     "traceback": [
      "\u001b[0;31m---------------------------------------------------------------------------\u001b[0m",
      "\u001b[0;31mKeyboardInterrupt\u001b[0m                         Traceback (most recent call last)",
      "Cell \u001b[0;32mIn[117], line 2\u001b[0m\n\u001b[1;32m      1\u001b[0m \u001b[38;5;28;01mfor\u001b[39;00m inp \u001b[38;5;129;01min\u001b[39;00m inputsPart2[:\u001b[38;5;241m1\u001b[39m]:\n\u001b[0;32m----> 2\u001b[0m     \u001b[38;5;28mprint\u001b[39m(\u001b[43mapplyMap\u001b[49m\u001b[43m(\u001b[49m\u001b[43minp\u001b[49m\u001b[43m,\u001b[49m\u001b[43m \u001b[49m\u001b[43mmaps\u001b[49m\u001b[43m,\u001b[49m\u001b[43m \u001b[49m\u001b[38;5;241;43m0\u001b[39;49m\u001b[43m)\u001b[49m)\n",
      "Cell \u001b[0;32mIn[110], line 19\u001b[0m, in \u001b[0;36mapplyMap\u001b[0;34m(inp, maps, index)\u001b[0m\n\u001b[1;32m     16\u001b[0m nextInputs\u001b[38;5;241m.\u001b[39mappend((intersection[\u001b[38;5;241m0\u001b[39m] \u001b[38;5;241m+\u001b[39m addToBeginning , intersection[\u001b[38;5;241m1\u001b[39m] \u001b[38;5;241m+\u001b[39m addToEnd))\n\u001b[1;32m     18\u001b[0m \u001b[38;5;28mprint\u001b[39m(\u001b[38;5;124m'\u001b[39m\u001b[38;5;124mprocessing\u001b[39m\u001b[38;5;124m'\u001b[39m, currentlyProcessing)\n\u001b[0;32m---> 19\u001b[0m \u001b[38;5;28mprint\u001b[39m(\u001b[38;5;124m'\u001b[39m\u001b[38;5;124mnext inputs\u001b[39m\u001b[38;5;124m'\u001b[39m, nextInputs)\n\u001b[1;32m     20\u001b[0m \u001b[38;5;66;03m#print(removeIntervalFromInterval(currentlyProcessing, intersection))\u001b[39;00m\n\u001b[1;32m     21\u001b[0m \u001b[38;5;28;01mfor\u001b[39;00m addToProcess \u001b[38;5;129;01min\u001b[39;00m removeIntervalFromInterval(currentlyProcessing, intersection):\n",
      "\u001b[0;31mKeyboardInterrupt\u001b[0m: "
     ]
    }
   ],
   "source": [
    "for inp in inputsPart2[:1]:\n",
    "    print(applyMap(inp, maps, 0))\n",
    "        "
   ]
  },
  {
   "cell_type": "code",
   "execution_count": null,
   "id": "6045d1a1",
   "metadata": {},
   "outputs": [],
   "source": [
    "1007717707\n",
    "919339981\n",
    "1481784610"
   ]
  },
  {
   "cell_type": "code",
   "execution_count": null,
   "id": "9372163a",
   "metadata": {},
   "outputs": [],
   "source": [
    "1007717708\n",
    "1007717707"
   ]
  }
 ],
 "metadata": {
  "kernelspec": {
   "display_name": "Python 3 (ipykernel)",
   "language": "python",
   "name": "python3"
  },
  "language_info": {
   "codemirror_mode": {
    "name": "ipython",
    "version": 3
   },
   "file_extension": ".py",
   "mimetype": "text/x-python",
   "name": "python",
   "nbconvert_exporter": "python",
   "pygments_lexer": "ipython3",
   "version": "3.11.4"
  }
 },
 "nbformat": 4,
 "nbformat_minor": 5
}
