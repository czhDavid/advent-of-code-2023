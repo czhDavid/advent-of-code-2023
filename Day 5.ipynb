{
 "cells": [
  {
   "cell_type": "markdown",
   "id": "15b79c03",
   "metadata": {},
   "source": [
    "--- Day 5: If You Give A Seed A Fertilizer ---\n",
    "\n",
    "You take the boat and find the gardener right where you were told he would be: managing a giant \"garden\" that looks more to you like a farm.\n",
    "\n",
    "\"A water source? Island Island is the water source!\" You point out that Snow Island isn't receiving any water.\n",
    "\n",
    "\"Oh, we had to stop the water because we ran out of sand to filter it with! Can't make snow with dirty water. Don't worry, I'm sure we'll get more sand soon; we only turned off the water a few days... weeks... oh no.\" His face sinks into a look of horrified realization.\n",
    "\n",
    "\"I've been so busy making sure everyone here has food that I completely forgot to check why we stopped getting more sand! There's a ferry leaving soon that is headed over in that direction - it's much faster than your boat. Could you please go check it out?\"\n",
    "\n",
    "You barely have time to agree to this request when he brings up another. \"While you wait for the ferry, maybe you can help us with our food production problem. The latest Island Island Almanac just arrived and we're having trouble making sense of it.\"\n",
    "\n",
    "The almanac (your puzzle input) lists all of the seeds that need to be planted. It also lists what type of soil to use with each kind of seed, what type of fertilizer to use with each kind of soil, what type of water to use with each kind of fertilizer, and so on. Every type of seed, soil, fertilizer and so on is identified with a number, but numbers are reused by each category - that is, soil 123 and fertilizer 123 aren't necessarily related to each other."
   ]
  },
  {
   "cell_type": "code",
   "execution_count": 180,
   "id": "82a89ac0",
   "metadata": {},
   "outputs": [],
   "source": [
    "day5testFile = open('day5.txt', 'r').read()\n"
   ]
  },
  {
   "cell_type": "code",
   "execution_count": 188,
   "id": "34f7cb6e",
   "metadata": {},
   "outputs": [],
   "source": [
    "inputs = [int(x) for x in day5testFile.split('\\n\\n')[0].split(':')[1].strip().split(' ')]\n",
    "\n",
    "#inputs part 2 are interval\n",
    "inputsPart2 = []\n",
    "for i in range (0,len(inputs), 2):\n",
    "    inputsPart2.append((inputs[i], inputs[i] + inputs[i+1]-1))"
   ]
  },
  {
   "cell_type": "code",
   "execution_count": 182,
   "id": "41980b7b",
   "metadata": {},
   "outputs": [],
   "source": [
    "maps = [x.split(':')[1].strip().split('\\n') for x in day5testFile.split('\\n\\n')[1:]]\n"
   ]
  },
  {
   "cell_type": "code",
   "execution_count": 193,
   "id": "5d76f42a",
   "metadata": {},
   "outputs": [],
   "source": [
    "def getIntersectionInterval(intervalA: tuple[int, int], intervalB: tuple[int, int]) -> tuple[int,int] | None:\n",
    "    if int(intervalA[0]) >= int(intervalB[0]) and int(intervalA[0]) <= (intervalB[1]):\n",
    "        return (max(intervalA[0], intervalB[0]), min(intervalA[1], intervalB[1]))\n",
    "    if intervalA[1] >= intervalB[0] and intervalA[1]<= intervalB[1]:\n",
    "        return (max(intervalA[0], intervalB[0]), min(intervalA[1], intervalB[1]))\n",
    "    return None"
   ]
  },
  {
   "cell_type": "code",
   "execution_count": 195,
   "id": "6964c92e",
   "metadata": {},
   "outputs": [],
   "source": [
    "def removeIntervalFromInterval(original: tuple[int, int], toRemove:[int,int]) -> list[tuple[int, int]]:\n",
    "    if original[0] >= toRemove[0] and original[1] <= toRemove[1]:\n",
    "        return []\n",
    "    if original[0] < toRemove[0] and original[1] > toRemove[1]:\n",
    "        return [(original[0], toRemove[0]-1), (toRemove[1]+1,original[1])]\n",
    "    if original[0] < toRemove[0]:\n",
    "        return [(original[0],toRemove[0]-1)]\n",
    "    return [(toRemove[1]+1,original[1])]\n"
   ]
  },
  {
   "cell_type": "code",
   "execution_count": 190,
   "id": "62995f47",
   "metadata": {},
   "outputs": [],
   "source": [
    "def applyMap(inp, maps,index):\n",
    "    currentMap = maps[index];\n",
    "    nextInputs =[]\n",
    "    toProcess = inp\n",
    "    while toProcess != []:\n",
    "        currentlyProcessing = toProcess.pop()\n",
    "        for func in currentMap:\n",
    "            dest, source, rng = [int(x) for x in func.split(' ')]\n",
    "            functionDestInterval = (dest, dest + rng -1)\n",
    "            functionSourceInterval = (source, source + rng -1)\n",
    "            \n",
    "            #find intersection between current input and source interval\n",
    "            intersection = getIntersectionInterval(currentlyProcessing, functionSourceInterval)\n",
    "            if intersection != None: \n",
    "                toAdd = dest - source\n",
    "                nextInputs.append((intersection[0] + toAdd , intersection[1] + toAdd))\n",
    "                #for numbers outside matched interval continue checking them against other maps\n",
    "                for addToProcess in removeIntervalFromInterval(currentlyProcessing, intersection):\n",
    "                    toProcess.append(addToProcess)\n",
    "                currentlyProcessing = None\n",
    "                break\n",
    "                \n",
    "    #pass unprocessed inputs to next map\n",
    "    if currentlyProcessing != None:\n",
    "        nextInputs += [currentlyProcessing]\n",
    "        \n",
    "    #return minimal location for input\n",
    "    if index +1 >= len(maps):\n",
    "        return min(nextInputs)\n",
    "    \n",
    "    #apply recusively \n",
    "    return applyMap(nextInputs,maps, index+1)\n",
    "        "
   ]
  },
  {
   "cell_type": "code",
   "execution_count": 134,
   "id": "769a8d5b",
   "metadata": {},
   "outputs": [
    {
     "name": "stdout",
     "output_type": "stream",
     "text": [
      "346433842\n"
     ]
    }
   ],
   "source": [
    "res = []\n",
    "for inp in inputs:\n",
    "    for m in maps:\n",
    "        for func in m:\n",
    "            dest, source, rng = func.split(' ')\n",
    "            if int(inp) >= int(source) and int(inp) <= (int(source) + int(rng)-1):\n",
    "                inp = int(dest) - int(source) + int(inp)\n",
    "                break\n",
    "    res.append(inp)\n",
    "print(min(res))  "
   ]
  },
  {
   "cell_type": "markdown",
   "id": "0ddd335e",
   "metadata": {},
   "source": [
    "--- Part Two ---\n",
    "\n",
    "Everyone will starve if you only plant such a small number of seeds. Re-reading the almanac, it looks like the seeds: line actually describes ranges of seed numbers.\n",
    "\n",
    "The values on the initial seeds: line come in pairs. Within each pair, the first value is the start of the range and the second value is the length of the range. So, in the first line of the example above:\n",
    "\n",
    "seeds: 79 14 55 13\n",
    "This line describes two ranges of seed numbers to be planted in the garden. The first range starts with seed number 79 and contains 14 values: 79, 80, ..., 91, 92. The second range starts with seed number 55 and contains 13 values: 55, 56, ..., 66, 67.\n",
    "\n",
    "Now, rather than considering four seed numbers, you need to consider a total of 27 seed numbers.\n",
    "\n",
    "In the above example, the lowest location number can be obtained from seed number 82, which corresponds to soil 84, fertilizer 84, water 84, light 77, temperature 45, humidity 46, and location 46. So, the lowest location number is 46.\n",
    "\n",
    "Consider all of the initial seed numbers listed in the ranges on the first line of the almanac. What is the lowest location number that corresponds to any of the initial seed numbers?\n",
    "\n"
   ]
  },
  {
   "cell_type": "code",
   "execution_count": 197,
   "id": "2d38c42b",
   "metadata": {},
   "outputs": [
    {
     "name": "stdout",
     "output_type": "stream",
     "text": [
      "60294664\n"
     ]
    }
   ],
   "source": [
    "minimal = 9999999999999\n",
    "for inp in inputsPart2:\n",
    "    res = applyMap([inp], maps, 0)\n",
    "    minimal = min(minimal, res[0])\n",
    "print(minimal)\n",
    "        "
   ]
  }
 ],
 "metadata": {
  "kernelspec": {
   "display_name": "Python 3 (ipykernel)",
   "language": "python",
   "name": "python3"
  },
  "language_info": {
   "codemirror_mode": {
    "name": "ipython",
    "version": 3
   },
   "file_extension": ".py",
   "mimetype": "text/x-python",
   "name": "python",
   "nbconvert_exporter": "python",
   "pygments_lexer": "ipython3",
   "version": "3.11.4"
  }
 },
 "nbformat": 4,
 "nbformat_minor": 5
}
