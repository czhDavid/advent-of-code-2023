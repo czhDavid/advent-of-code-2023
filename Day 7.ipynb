{
 "cells": [
  {
   "cell_type": "markdown",
   "id": "f455624c",
   "metadata": {},
   "source": [
    "In Camel Cards, you get a list of hands, and your goal is to order them based on the strength of each hand. A hand consists of five cards labeled one of A, K, Q, J, T, 9, 8, 7, 6, 5, 4, 3, or 2. The relative strength of each card follows this order, where A is the highest and 2 is the lowest.\n",
    "\n",
    "Every hand is exactly one type. From strongest to weakest, they are:\n",
    "\n",
    "Five of a kind, where all five cards have the same label: AAAAA\n",
    "Four of a kind, where four cards have the same label and one card has a different label: AA8AA\n",
    "Full house, where three cards have the same label, and the remaining two cards share a different label: 23332\n",
    "Three of a kind, where three cards have the same label, and the remaining two cards are each different from any other card in the hand: TTT98\n",
    "Two pair, where two cards share one label, two other cards share a second label, and the remaining card has a third label: 23432\n",
    "One pair, where two cards share one label, and the other three cards have a different label from the pair and each other: A23A4\n",
    "High card, where all cards' labels are distinct: 23456\n",
    "Hands are primarily ordered based on type; for example, every full house is stronger than any three of a kind.\n",
    "\n",
    "If two hands have the same type, a second ordering rule takes effect. Start by comparing the first card in each hand. If these cards are different, the hand with the stronger first card is considered stronger. If the first card in each hand have the same label, however, then move on to considering the second card in each hand. If they differ, the hand with the higher second card wins; otherwise, continue with the third card in each hand, then the fourth, then the fifth.\n",
    "\n",
    "So, 33332 and 2AAAA are both four of a kind hands, but 33332 is stronger because its first card is stronger. Similarly, 77888 and 77788 are both a full house, but 77888 is stronger because its third card is stronger (and both hands have the same first and second card).\n",
    "\n",
    "To play Camel Cards, you are given a list of hands and their corresponding bid (your puzzle input). For example:\n",
    "\n",
    "32T3K 765\n",
    "T55J5 684\n",
    "KK677 28\n",
    "KTJJT 220\n",
    "QQQJA 483\n",
    "This example shows five hands; each hand is followed by its bid amount. Each hand wins an amount equal to its bid multiplied by its rank, where the weakest hand gets rank 1, the second-weakest hand gets rank 2, and so on up to the strongest hand. Because there are five hands in this example, the strongest hand will have rank 5 and its bid will be multiplied by 5.\n",
    "\n",
    "So, the first step is to put the hands in order of strength:\n",
    "\n",
    "32T3K is the only one pair and the other hands are all a stronger type, so it gets rank 1.\n",
    "KK677 and KTJJT are both two pair. Their first cards both have the same label, but the second card of KK677 is stronger (K vs T), so KTJJT gets rank 2 and KK677 gets rank 3.\n",
    "T55J5 and QQQJA are both three of a kind. QQQJA has a stronger first card, so it gets rank 5 and T55J5 gets rank 4.\n",
    "Now, you can determine the total winnings of this set of hands by adding up the result of multiplying each hand's bid with its rank (765 * 1 + 220 * 2 + 28 * 3 + 684 * 4 + 483 * 5). So the total winnings in this example are 6440.\n",
    "\n",
    "Find the rank of every hand in your set. What are the total winnings?\n"
   ]
  },
  {
   "cell_type": "code",
   "execution_count": 95,
   "id": "1789d2f0",
   "metadata": {},
   "outputs": [],
   "source": [
    "from typing import TypedDict\n",
    "from collections import Counter\n",
    "from functools import cmp_to_key"
   ]
  },
  {
   "cell_type": "code",
   "execution_count": 2,
   "id": "69be4ae6",
   "metadata": {},
   "outputs": [],
   "source": [
    "class Hand(TypedDict):\n",
    "    hand: str\n",
    "    bet: int"
   ]
  },
  {
   "cell_type": "code",
   "execution_count": 192,
   "id": "4122de12",
   "metadata": {},
   "outputs": [],
   "source": [
    "def orderByRank(hands: list[Hand]):\n",
    "    #return sorted(hands,key = lambda x: getRankOfHand(x['hand']))\n",
    "    return sorted(hands,key = cmp_to_key(CompareTwoHands))\n",
    "    "
   ]
  },
  {
   "cell_type": "code",
   "execution_count": 193,
   "id": "39886885",
   "metadata": {},
   "outputs": [],
   "source": [
    "def getRankOfHand(hand: str)-> int:\n",
    "    #13 types of cards\n",
    "    ORDERED_CARDS = ['2', '3', '4', '5', '6', '7', '8', '9', 'T', 'J', 'Q', 'A']\n",
    "    handAsLit = list(hand)\n",
    "    numberOfCountsPerCard = list(Counter(handAsLit).values())\n",
    "    numberOfCountsPerCard.sort(reverse=True)\n",
    "    \n",
    "    \n",
    "    match numberOfCountsPerCard:\n",
    "        case [5]:\n",
    "            return 7\n",
    "        case [4,1]:\n",
    "            return 6\n",
    "        case [3,2]:\n",
    "            return 5\n",
    "        case [3,1,1]:\n",
    "            return 4\n",
    "        case [2,2,1]:\n",
    "            return 3\n",
    "        case [2,1,1,1]:\n",
    "            return 2\n",
    "    #print(hand, numberOfCountsPerCard)\n",
    "    \n",
    "    return 1\n",
    "    "
   ]
  },
  {
   "cell_type": "code",
   "execution_count": 194,
   "id": "d4641e37",
   "metadata": {},
   "outputs": [],
   "source": [
    "def CompareTwoHands(a: Hand, b: Hand)-> int:\n",
    "    ORDERED_CARDS = ['J','2', '3', '4', '5', '6', '7', '8', '9', 'T', 'J', 'Q','K', 'A']\n",
    "    rankA = getRankOfHand(a['hand'])\n",
    "    rankB = getRankOfHand(b['hand'])\n",
    "    if rankA > rankB: \n",
    "        return 1\n",
    "    if rankA < rankB:\n",
    "        return -1\n",
    "    if rankA == rankB:\n",
    "        for i in range(len(a['hand'])):\n",
    "            if ORDERED_CARDS.index(a['hand'][i]) > ORDERED_CARDS.index(b['hand'][i]):\n",
    "                return 1\n",
    "            if ORDERED_CARDS.index(a['hand'][i]) < ORDERED_CARDS.index(b['hand'][i]):\n",
    "                return -1 \n",
    "    return 0"
   ]
  },
  {
   "cell_type": "code",
   "execution_count": 165,
   "id": "742e5e17",
   "metadata": {},
   "outputs": [],
   "source": [
    "hands = []\n",
    "with open('day7.txt', 'r') as inp:\n",
    "    for line in inp:\n",
    "        hand, bet = line.split(' ')\n",
    "        hands.append({'hand': hand, 'bet': int(bet)})\n",
    "        \n"
   ]
  },
  {
   "cell_type": "code",
   "execution_count": 195,
   "id": "0c65547e",
   "metadata": {},
   "outputs": [
    {
     "name": "stdout",
     "output_type": "stream",
     "text": [
      "249544402\n"
     ]
    }
   ],
   "source": [
    "\n",
    "orderedHands = orderByRank(hands)\n",
    "s = 0\n",
    "for i in range(len(orderedHands)):\n",
    "    s+= orderedHands[i]['bet'] * (i+1)\n",
    "print(s)\n"
   ]
  },
  {
   "cell_type": "code",
   "execution_count": 188,
   "id": "00f116e6",
   "metadata": {},
   "outputs": [],
   "source": [
    "def getRankOfHandWithJokerRule(hand: str)-> int:\n",
    "    if hand == 'JJJJJ':\n",
    "        return 7\n",
    "    #13 types of cards\n",
    "    ORDERED_CARDS = ['J', '2', '3', '4', '5', '6', '7', '8', '9', 'T', 'J', 'Q', 'A']\n",
    "    handAsLit = list(hand)\n",
    "\n",
    "    \n",
    "    handCounter = Counter(handAsLit)\n",
    "\n",
    "    if 'J' in handCounter:\n",
    "        mostCommon = handCounter.most_common()[0][0] if handCounter.most_common()[0][0] != 'J' else handCounter.most_common()[1][0]\n",
    "        handAsLit = [ mostCommon if x == 'J' else x for x in handAsLit]\n",
    "\n",
    "    numberOfCountsPerCard = list(Counter(handAsLit).values())\n",
    "    numberOfCountsPerCard.sort(reverse=True)\n",
    "    \n",
    "    match numberOfCountsPerCard:\n",
    "        case [5]:\n",
    "            return 7\n",
    "        case [4,1]:\n",
    "            return 6\n",
    "        case [3,2]:\n",
    "            return 5\n",
    "        case [3,1,1]:\n",
    "            return 4\n",
    "        case [2,2,1]:\n",
    "            return 3\n",
    "        case [2,1,1,1]:\n",
    "            return 2\n",
    "    \n",
    "    return 1"
   ]
  },
  {
   "cell_type": "code",
   "execution_count": 168,
   "id": "215decc1",
   "metadata": {},
   "outputs": [],
   "source": [
    "def orderByRankWithJoker(hands: list[Hand]):\n",
    "    return sorted(hands,key = cmp_to_key(CompareTwoHandsWithJoker))"
   ]
  },
  {
   "cell_type": "code",
   "execution_count": 174,
   "id": "ac5f0ad3",
   "metadata": {},
   "outputs": [],
   "source": [
    "def CompareTwoHandsWithJoker(a: Hand, b: Hand)-> int:\n",
    "    ORDERED_CARDS = ['J','2', '3', '4', '5', '6', '7', '8', '9', 'T', 'J', 'Q','K', 'A']\n",
    "    rankA = getRankOfHandWithJokerRule(a['hand'])\n",
    "    rankB = getRankOfHandWithJokerRule(b['hand'])\n",
    "    if rankA > rankB: \n",
    "        return 1\n",
    "    if rankA < rankB:\n",
    "        return -1\n",
    "    if rankA == rankB:\n",
    "        for i in range(len(a['hand'])):\n",
    "            if ORDERED_CARDS.index(a['hand'][i]) > ORDERED_CARDS.index(b['hand'][i]):\n",
    "                return 1\n",
    "            if ORDERED_CARDS.index(a['hand'][i]) < ORDERED_CARDS.index(b['hand'][i]):\n",
    "                return -1 \n",
    "    return 0"
   ]
  },
  {
   "cell_type": "code",
   "execution_count": 189,
   "id": "36b77026",
   "metadata": {},
   "outputs": [
    {
     "name": "stdout",
     "output_type": "stream",
     "text": [
      "249666369\n"
     ]
    }
   ],
   "source": [
    "orderedHands = orderByRankWithJoker(hands)\n",
    "s = 0\n",
    "for i in range(len(orderedHands)):\n",
    "    s+= orderedHands[i]['bet'] * (i+1)\n",
    "print(s)\n",
    "\n",
    "#correct 249666369"
   ]
  }
 ],
 "metadata": {
  "kernelspec": {
   "display_name": "Python 3 (ipykernel)",
   "language": "python",
   "name": "python3"
  },
  "language_info": {
   "codemirror_mode": {
    "name": "ipython",
    "version": 3
   },
   "file_extension": ".py",
   "mimetype": "text/x-python",
   "name": "python",
   "nbconvert_exporter": "python",
   "pygments_lexer": "ipython3",
   "version": "3.11.4"
  }
 },
 "nbformat": 4,
 "nbformat_minor": 5
}
