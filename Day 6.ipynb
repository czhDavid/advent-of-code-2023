{
 "cells": [
  {
   "cell_type": "markdown",
   "id": "648bbcbe",
   "metadata": {},
   "source": [
    "This document describes three races:\n",
    "\n",
    "The first race lasts 7 milliseconds. The record distance in this race is 9 millimeters.\n",
    "The second race lasts 15 milliseconds. The record distance in this race is 40 millimeters.\n",
    "The third race lasts 30 milliseconds. The record distance in this race is 200 millimeters.\n",
    "Your toy boat has a starting speed of zero millimeters per millisecond. For each whole millisecond you spend at the beginning of the race holding down the button, the boat's speed increases by one millimeter per millisecond.\n",
    "\n",
    "So, because the first race lasts 7 milliseconds, you only have a few options:\n",
    "\n",
    "Don't hold the button at all (that is, hold it for 0 milliseconds) at the start of the race. The boat won't move; it will have traveled 0 millimeters by the end of the race.\n",
    "Hold the button for 1 millisecond at the start of the race. Then, the boat will travel at a speed of 1 millimeter per millisecond for 6 milliseconds, reaching a total distance traveled of 6 millimeters.\n",
    "Hold the button for 2 milliseconds, giving the boat a speed of 2 millimeters per millisecond. It will then get 5 milliseconds to move, reaching a total distance of 10 millimeters.\n",
    "Hold the button for 3 milliseconds. After its remaining 4 milliseconds of travel time, the boat will have gone 12 millimeters.\n",
    "Hold the button for 4 milliseconds. After its remaining 3 milliseconds of travel time, the boat will have gone 12 millimeters.\n",
    "Hold the button for 5 milliseconds, causing the boat to travel a total of 10 millimeters.\n",
    "Hold the button for 6 milliseconds, causing the boat to travel a total of 6 millimeters.\n",
    "Hold the button for 7 milliseconds. That's the entire duration of the race. You never let go of the button. The boat can't move until you let go of the button. Please make sure you let go of the button so the boat gets to move. 0 millimeters.\n",
    "Since the current record for this race is 9 millimeters, there are actually 4 different ways you could win: you could hold the button for 2, 3, 4, or 5 milliseconds at the start of the race.\n",
    "\n",
    "In the second race, you could hold the button for at least 4 milliseconds and at most 11 milliseconds and beat the record, a total of 8 different ways to win.\n",
    "\n"
   ]
  },
  {
   "cell_type": "code",
   "execution_count": 1,
   "id": "d3b4eedc",
   "metadata": {},
   "outputs": [],
   "source": [
    "import re "
   ]
  },
  {
   "cell_type": "code",
   "execution_count": 48,
   "id": "13418240",
   "metadata": {},
   "outputs": [
    {
     "name": "stdout",
     "output_type": "stream",
     "text": [
      "[10, 36]\n",
      "[29, 53]\n",
      "[24, 60]\n",
      "[31, 48]\n",
      "449550\n"
     ]
    }
   ],
   "source": [
    "times = []\n",
    "distance = []\n",
    "total=1\n",
    "with open('day6.txt', 'r') as sourceFile: \n",
    "    times = [int(t) for t in re.findall('\\d+',sourceFile.readline().split(':')[1])]\n",
    "    distances = [int(t) for t in re.findall('\\d+',sourceFile.readline().split(':')[1])]\n",
    "    \n",
    "for raceIndex in range(len(times)):\n",
    "    minimalHoldTime, maximalHoldTime = findWinningOptions(times[raceIndex], distances[raceIndex])\n",
    "    total *= (maximalHoldTime - minimalHoldTime + 1)\n",
    "    print(findWinningOptions(times[raceIndex], distances[raceIndex]))\n",
    "print(total)"
   ]
  },
  {
   "cell_type": "code",
   "execution_count": 40,
   "id": "6e0b3481",
   "metadata": {},
   "outputs": [],
   "source": [
    "def findWinningOptions(time: int, distance: int) -> list[int]:\n",
    "    winningOptions = []\n",
    "    #find minimum time\n",
    "    for waitTime in range(time):\n",
    "        if waitTime * (time-waitTime) > distance:\n",
    "            winningOptions.append(waitTime)\n",
    "            break\n",
    "    #for maximum time\n",
    "    for waitTime in reversed(range(1,time)):\n",
    "        if waitTime * (time-waitTime) > distance:\n",
    "            winningOptions.append(waitTime)\n",
    "            break\n",
    "    return winningOptions"
   ]
  },
  {
   "cell_type": "markdown",
   "id": "d2e543df",
   "metadata": {},
   "source": [
    "--- Part Two ---\n",
    "\n",
    "As the race is about to start, you realize the piece of paper with race times and record distances you got earlier actually just has very bad kerning. There's really only one race - ignore the spaces between the numbers on each line.\n",
    "\n",
    "So, the example from before:\n",
    "\n",
    "Time:      7  15   30\n",
    "Distance:  9  40  200\n",
    "...now instead means this:\n",
    "\n",
    "Time:      71530\n",
    "Distance:  940200\n",
    "Now, you have to figure out how many ways there are to win this single race. In this example, the race lasts for 71530 milliseconds and the record distance you need to beat is 940200 millimeters. You could hold the button anywhere from 14 to 71516 milliseconds and beat the record, a total of 71503 ways!\n",
    "\n",
    "How many ways can you beat the record in this one much longer race?"
   ]
  },
  {
   "cell_type": "code",
   "execution_count": 51,
   "id": "eeb062e1",
   "metadata": {},
   "outputs": [
    {
     "name": "stdout",
     "output_type": "stream",
     "text": [
      "28360140\n",
      "28360140\n"
     ]
    }
   ],
   "source": [
    "times = []\n",
    "distance = []\n",
    "total=1\n",
    "with open('day6.txt', 'r') as sourceFile: \n",
    "    time = int(sourceFile.readline().split(':')[1].replace(' ', ''))\n",
    "    distance = int(sourceFile.readline().split(':')[1].replace(' ', ''))\n",
    "    \n",
    "    minimalHoldTime, maximalHoldTime = findWinningOptions(time, distance)\n",
    "    total *= (maximalHoldTime - minimalHoldTime + 1)\n",
    "    print(total)"
   ]
  }
 ],
 "metadata": {
  "kernelspec": {
   "display_name": "Python 3 (ipykernel)",
   "language": "python",
   "name": "python3"
  },
  "language_info": {
   "codemirror_mode": {
    "name": "ipython",
    "version": 3
   },
   "file_extension": ".py",
   "mimetype": "text/x-python",
   "name": "python",
   "nbconvert_exporter": "python",
   "pygments_lexer": "ipython3",
   "version": "3.11.2"
  }
 },
 "nbformat": 4,
 "nbformat_minor": 5
}
