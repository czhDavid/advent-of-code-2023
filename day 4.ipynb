{
 "cells": [
  {
   "cell_type": "markdown",
   "id": "7aca069e",
   "metadata": {},
   "source": [
    "--- Day 4: Scratchcards ---\n",
    "\n",
    "The gondola takes you up. Strangely, though, the ground doesn't seem to be coming with you; you're not climbing a mountain. As the circle of Snow Island recedes below you, an entire new landmass suddenly appears above you! The gondola carries you to the surface of the new island and lurches into the station.\n",
    "\n",
    "As you exit the gondola, the first thing you notice is that the air here is much warmer than it was on Snow Island. It's also quite humid. Is this where the water source is?\n",
    "\n",
    "The next thing you notice is an Elf sitting on the floor across the station in what seems to be a pile of colorful square cards.\n",
    "\n",
    "\"Oh! Hello!\" The Elf excitedly runs over to you. \"How may I be of service?\" You ask about water sources.\n",
    "\n",
    "\"I'm not sure; I just operate the gondola lift. That does sound like something we'd have, though - this is Island Island, after all! I bet the gardener would know. He's on a different island, though - er, the small kind surrounded by water, not the floating kind. We really need to come up with a better naming scheme. Tell you what: if you can help me with something quick, I'll let you borrow my boat and you can go visit the gardener. I got all these scratchcards as a gift, but I can't figure out what I've won.\"\n",
    "\n",
    "The Elf leads you over to the pile of colorful cards. There, you discover dozens of scratchcards, all with their opaque covering already scratched off. Picking one up, it looks like each card has two lists of numbers separated by a vertical bar (|): a list of winning numbers and then a list of numbers you have. You organize the information into a table (your puzzle input).\n",
    "\n",
    "As far as the Elf has been able to figure out, you have to figure out which of the numbers you have appear in the list of winning numbers. The first match makes the card worth one point and each match after the first doubles the point value of that card.\n",
    "\n",
    "For example:\n",
    "\n",
    "Card 1: 41 48 83 86 17 | 83 86  6 31 17  9 48 53\n",
    "Card 2: 13 32 20 16 61 | 61 30 68 82 17 32 24 19\n",
    "Card 3:  1 21 53 59 44 | 69 82 63 72 16 21 14  1\n",
    "Card 4: 41 92 73 84 69 | 59 84 76 51 58  5 54 83\n",
    "Card 5: 87 83 26 28 32 | 88 30 70 12 93 22 82 36\n",
    "Card 6: 31 18 13 56 72 | 74 77 10 23 35 67 36 11\n",
    "In the above example, card 1 has five winning numbers (41, 48, 83, 86, and 17) and eight numbers you have (83, 86, 6, 31, 17, 9, 48, and 53). Of the numbers you have, four of them (48, 83, 17, and 86) are winning numbers! That means card 1 is worth 8 points (1 for the first match, then doubled three times for each of the three matches after the first).\n",
    "\n",
    "Card 2 has two winning numbers (32 and 61), so it is worth 2 points.\n",
    "Card 3 has two winning numbers (1 and 21), so it is worth 2 points.\n",
    "Card 4 has one winning number (84), so it is worth 1 point.\n",
    "Card 5 has no winning numbers, so it is worth no points.\n",
    "Card 6 has no winning numbers, so it is worth no points.\n",
    "So, in this example, the Elf's pile of scratchcards is worth 13 points.\n",
    "\n",
    "Take a seat in the large pile of colorful cards. How many points are they worth in total?\n",
    "\n",
    "Result:\n",
    "24706\n",
    "\n",
    "Time to code: 21 minutes 29 seconds"
   ]
  },
  {
   "cell_type": "code",
   "execution_count": 1,
   "id": "f3c1d8b5",
   "metadata": {},
   "outputs": [],
   "source": [
    "testScratchCard = [\n",
    "    'Card 1: 41 48 83 86 17 | 83 86  6 31 17  9 48 53',\n",
    "    'Card 2: 13 32 20 16 61 | 61 30 68 82 17 32 24 10',\n",
    "    'Card 3:  1 21 53 59 44 | 69 82 63 72 16 21 14  1',\n",
    "    'Card 4: 41 92 73 84 69 | 59 84 76 51 58  5 54 83',\n",
    "    'Card 5: 87 83 26 28 32 | 88 30 70 12 93 22 82 36',\n",
    "    'Card 6: 31 18 13 56 72 | 74 77 10 23 35 67 36 11',\n",
    "]"
   ]
  },
  {
   "cell_type": "code",
   "execution_count": 48,
   "id": "222e5433",
   "metadata": {},
   "outputs": [],
   "source": [
    "def processScratchCardLine(scratchCardLine: str):\n",
    "    scratchCardLine = scratchCardLine.replace('  ', ' ')\n",
    "    winning, betting = scratchCardLine.split(':')[1].split('|')\n",
    "    winningList = [int(x) for x in winning.strip().split(' ')]\n",
    "    bettingList = [int(x) for x in betting.strip().split(' ')]\n",
    "    \n",
    "    winningNumbers = [x for x in bettingList if x in winningList]\n",
    "    if len(winningNumbers) > 0:\n",
    "        return 2**(len(winningNumbers)-1)\n",
    "    return 0"
   ]
  },
  {
   "cell_type": "code",
   "execution_count": 69,
   "id": "f714fadd",
   "metadata": {},
   "outputs": [
    {
     "name": "stdout",
     "output_type": "stream",
     "text": [
      "24706\n"
     ]
    }
   ],
   "source": [
    "total = 0\n",
    "with open('day4.txt', 'r') as tickets:\n",
    "    for ticket in tickets:\n",
    "        total+= processScratchCardLine(ticket)\n",
    "print(total)"
   ]
  },
  {
   "cell_type": "markdown",
   "id": "3b02d23e",
   "metadata": {},
   "source": [
    "--- Part Two ---\n",
    "\n",
    "Just as you're about to report your findings to the Elf, one of you realizes that the rules have actually been printed on the back of every card this whole time.\n",
    "\n",
    "There's no such thing as \"points\". Instead, scratchcards only cause you to win more scratchcards equal to the number of winning numbers you have.\n",
    "\n",
    "Specifically, you win copies of the scratchcards below the winning card equal to the number of matches. So, if card 10 were to have 5 matching numbers, you would win one copy each of cards 11, 12, 13, 14, and 15.\n",
    "\n",
    "Copies of scratchcards are scored like normal scratchcards and have the same card number as the card they copied. So, if you win a copy of card 10 and it has 5 matching numbers, it would then win a copy of the same cards that the original card 10 won: cards 11, 12, 13, 14, and 15. This process repeats until none of the copies cause you to win any more cards. (Cards will never make you copy a card past the end of the table.)\n",
    "\n",
    "This time, the above example goes differently:\n",
    "\n",
    "Card 1: 41 48 83 86 17 | 83 86  6 31 17  9 48 53\n",
    "Card 2: 13 32 20 16 61 | 61 30 68 82 17 32 24 19\n",
    "Card 3:  1 21 53 59 44 | 69 82 63 72 16 21 14  1\n",
    "Card 4: 41 92 73 84 69 | 59 84 76 51 58  5 54 83\n",
    "Card 5: 87 83 26 28 32 | 88 30 70 12 93 22 82 36\n",
    "Card 6: 31 18 13 56 72 | 74 77 10 23 35 67 36 11\n",
    "Card 1 has four matching numbers, so you win one copy each of the next four cards: cards 2, 3, 4, and 5.\n",
    "Your original card 2 has two matching numbers, so you win one copy each of cards 3 and 4.\n",
    "Your copy of card 2 also wins one copy each of cards 3 and 4.\n",
    "Your four instances of card 3 (one original and three copies) have two matching numbers, so you win four copies each of cards 4 and 5.\n",
    "Your eight instances of card 4 (one original and seven copies) have one matching number, so you win eight copies of card 5.\n",
    "Your fourteen instances of card 5 (one original and thirteen copies) have no matching numbers and win no more cards.\n",
    "Your one instance of card 6 (one original) has no matching numbers and wins no more cards.\n",
    "Once all of the originals and copies have been processed, you end up with 1 instance of card 1, 2 instances of card 2, 4 instances of card 3, 8 instances of card 4, 14 instances of card 5, and 1 instance of card 6. In total, this example pile of scratchcards causes you to ultimately have 30 scratchcards!\n",
    "\n",
    "Process all of the original and copied scratchcards until no more scratchcards are won. Including the original set of scratchcards, how many total scratchcards do you end up with?\n",
    "\n",
    "Result: 13114317\n",
    "\n",
    "done in 16 minutes 28 seconds"
   ]
  },
  {
   "cell_type": "code",
   "execution_count": 2,
   "id": "b8db02ed",
   "metadata": {},
   "outputs": [],
   "source": [
    "def getNumberOfWinningNumbersFromScratchCard(scratchCardLine: str):\n",
    "    scratchCardLine = scratchCardLine.replace('  ', ' ')\n",
    "    winning, betting = scratchCardLine.split(':')[1].split('|')\n",
    "    winningList = [int(x) for x in winning.strip().split(' ')]\n",
    "    bettingList = [int(x) for x in betting.strip().split(' ')]\n",
    "    \n",
    "    winningNumbers = [x for x in bettingList if x in winningList]\n",
    "    return len(winningNumbers)"
   ]
  },
  {
   "cell_type": "code",
   "execution_count": 3,
   "id": "5842a0b9",
   "metadata": {},
   "outputs": [
    {
     "name": "stdout",
     "output_type": "stream",
     "text": [
      "[1, 0, 0, 0, 0, 0]\n",
      "0\n",
      "1\n",
      "2\n",
      "3\n",
      "[1, 2, 1, 1, 1, 0]\n",
      "0\n",
      "1\n",
      "[1, 2, 4, 3, 1, 0]\n",
      "0\n",
      "1\n",
      "[1, 2, 4, 8, 5, 0]\n",
      "0\n",
      "[1, 2, 4, 8, 14, 0]\n",
      "[1, 2, 4, 8, 14, 1]\n",
      "30\n"
     ]
    }
   ],
   "source": [
    "#test instance \n",
    "testScratchCard = [\n",
    "    'Card 1: 41 48 83 86 17 | 83 86  6 31 17  9 48 53',\n",
    "    'Card 2: 13 32 20 16 61 | 61 30 68 82 17 32 24 10',\n",
    "    'Card 3:  1 21 53 59 44 | 69 82 63 72 16 21 14  1',\n",
    "    'Card 4: 41 92 73 84 69 | 59 84 76 51 58  5 54 83',\n",
    "    'Card 5: 87 83 26 28 32 | 88 30 70 12 93 22 82 36',\n",
    "    'Card 6: 31 18 13 56 72 | 74 77 10 23 35 67 36 11',\n",
    "]\n",
    "\n",
    "numberOfTicketsperScratchCard = [0 for _ in testScratchCard]\n",
    "\n",
    "lineNumber = 0\n",
    "for ticket in testScratchCard:\n",
    "    numberOfTicketsperScratchCard[lineNumber]+=1\n",
    "    numberOfWinningNumbers = getNumberOfWinningNumbersFromScratchCard(ticket)\n",
    "    print(numberOfTicketsperScratchCard)\n",
    "    for i in range(numberOfWinningNumbers):\n",
    "        if (i+lineNumber + 1) > len(numberOfTicketsperScratchCard) -1 :\n",
    "            break\n",
    "            \n",
    "        numberOfTicketsperScratchCard[i+lineNumber + 1] += numberOfTicketsperScratchCard[lineNumber]\n",
    "    lineNumber+=1\n",
    "print(sum(numberOfTicketsperScratchCard))\n"
   ]
  },
  {
   "cell_type": "code",
   "execution_count": 8,
   "id": "e9b4117b",
   "metadata": {},
   "outputs": [
    {
     "name": "stdout",
     "output_type": "stream",
     "text": [
      "85150\n"
     ]
    }
   ],
   "source": [
    "\n",
    "numberOfTicketsperScratchCard = [0 for _ in open('day4.txt')]\n",
    "with open('day4.txt', 'r') as tickets:\n",
    "    lineNumber = 0\n",
    "    for ticket in tickets:\n",
    "        numberOfTicketsperScratchCard[lineNumber]+=1\n",
    "        numberOfWinningNumbers = getNumberOfWinningNumbersFromScratchCard(ticket)\n",
    "        for i in range(numberOfWinningNumbers):\n",
    "            numberOfTicketsperScratchCard[i+lineNumber + 1] += numberOfTicketsperScratchCard[lineNumber]\n",
    "print(sum(numberOfTicketsperScratchCard))"
   ]
  },
  {
   "cell_type": "code",
   "execution_count": 6,
   "id": "6de5cf64",
   "metadata": {},
   "outputs": [
    {
     "name": "stdout",
     "output_type": "stream",
     "text": [
      "13114317\n"
     ]
    }
   ],
   "source": [
    "#prod instance \n",
    "\n",
    "numberOfTicketsperScratchCard = [0 for _ in open('day4.txt')]\n",
    "\n",
    "lineNumber = 0\n",
    "for ticket in open('day4.txt'):\n",
    "    numberOfTicketsperScratchCard[lineNumber]+=1\n",
    "    numberOfWinningNumbers = getNumberOfWinningNumbersFromScratchCard(ticket)\n",
    "    for i in range(numberOfWinningNumbers):\n",
    "        if (i+lineNumber + 1) > len(numberOfTicketsperScratchCard) -1 :\n",
    "            break\n",
    "            \n",
    "        numberOfTicketsperScratchCard[i+lineNumber + 1] += numberOfTicketsperScratchCard[lineNumber]\n",
    "    lineNumber+=1\n",
    "print(sum(numberOfTicketsperScratchCard))\n"
   ]
  }
 ],
 "metadata": {
  "kernelspec": {
   "display_name": "Python 3 (ipykernel)",
   "language": "python",
   "name": "python3"
  },
  "language_info": {
   "codemirror_mode": {
    "name": "ipython",
    "version": 3
   },
   "file_extension": ".py",
   "mimetype": "text/x-python",
   "name": "python",
   "nbconvert_exporter": "python",
   "pygments_lexer": "ipython3",
   "version": "3.11.4"
  }
 },
 "nbformat": 4,
 "nbformat_minor": 5
}
