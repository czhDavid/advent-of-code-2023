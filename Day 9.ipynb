{
 "cells": [
  {
   "cell_type": "markdown",
   "id": "c24ec67d",
   "metadata": {},
   "source": [
    "You pull out your handy Oasis And Sand Instability Sensor and analyze your surroundings. The OASIS produces a report of many values and how they are changing over time (your puzzle input). Each line in the report contains the history of a single value. For example:\n",
    "\n",
    "0 3 6 9 12 15\n",
    "\n",
    "1 3 6 10 15 21\n",
    "\n",
    "10 13 16 21 30 45\n",
    "\n",
    "To best protect the oasis, your environmental report should include a prediction of the next value in each history. To do this, start by making a new sequence from the difference at each step of your history. If that sequence is not all zeroes, repeat this process, using the sequence you just generated as the input sequence. Once all of the values in your latest sequence are zeroes, you can extrapolate what the next value of the original history should be."
   ]
  },
  {
   "cell_type": "code",
   "execution_count": 13,
   "id": "eab5f683",
   "metadata": {},
   "outputs": [],
   "source": [
    "def getNextNumberInLine(numberLine: list[int])-> int:\n",
    "    if areAllNumbersZero(numberLine):\n",
    "        return 0\n",
    "    \n",
    "    newLine = []\n",
    "    for i in range(1,len(numberLine)):\n",
    "        newLine.append(numberLine[i] - numberLine[i-1])\n",
    "    \n",
    "    return numberLine[-1] + getNextNumberInLine(newLine)\n",
    "        "
   ]
  },
  {
   "cell_type": "code",
   "execution_count": 11,
   "id": "2d0cf500",
   "metadata": {},
   "outputs": [],
   "source": [
    "def areAllNumbersZero(numbers: list[int]) -> bool:\n",
    "    for number in numbers:\n",
    "        if number != 0:\n",
    "            return False\n",
    "    return True "
   ]
  },
  {
   "cell_type": "code",
   "execution_count": 7,
   "id": "33bf391b",
   "metadata": {},
   "outputs": [],
   "source": []
  },
  {
   "cell_type": "code",
   "execution_count": 3,
   "id": "0f229e27",
   "metadata": {},
   "outputs": [],
   "source": [
    "testReading = [0,3,6,9,12,15]"
   ]
  },
  {
   "cell_type": "code",
   "execution_count": 18,
   "id": "606d757a",
   "metadata": {},
   "outputs": [
    {
     "name": "stdout",
     "output_type": "stream",
     "text": [
      "1819125966\n"
     ]
    }
   ],
   "source": [
    "with open('day9.txt', 'r') as inputFile: \n",
    "    s = 0\n",
    "    for line in inputFile:\n",
    "        inputAsInt = [int(reading) for reading in line.split(' ')]\n",
    "        s+=getNextNumberInLine(inputAsInt)\n",
    "    print(s)"
   ]
  },
  {
   "cell_type": "markdown",
   "id": "ae0c1616",
   "metadata": {},
   "source": [
    "Of course, it would be nice to have even more history included in your report. Surely it's safe to just extrapolate backwards as well, right?\n",
    "\n",
    "For each history, repeat the process of finding differences until the sequence of differences is entirely zero. Then, rather than adding a zero to the end and filling in the next values of each previous sequence, you should instead add a zero to the beginning of your sequence of zeroes, then fill in new first values for each previous sequence.\n",
    "\n"
   ]
  },
  {
   "cell_type": "code",
   "execution_count": 19,
   "id": "8bafbaec",
   "metadata": {},
   "outputs": [],
   "source": [
    "def getPreviousNumberInLine(numberLine: list[int])-> int:\n",
    "    if areAllNumbersZero(numberLine):\n",
    "        return 0\n",
    "    \n",
    "    newLine = []\n",
    "    for i in range(1,len(numberLine)):\n",
    "        newLine.append(numberLine[i] - numberLine[i-1])\n",
    "    \n",
    "    return numberLine[0] - getPreviousNumberInLine(newLine)\n",
    "        "
   ]
  },
  {
   "cell_type": "code",
   "execution_count": 20,
   "id": "131db2b7",
   "metadata": {},
   "outputs": [
    {
     "name": "stdout",
     "output_type": "stream",
     "text": [
      "1140\n"
     ]
    }
   ],
   "source": [
    "with open('day9.txt', 'r') as inputFile: \n",
    "    s = 0\n",
    "    for line in inputFile:\n",
    "        inputAsInt = [int(reading) for reading in line.split(' ')]\n",
    "        s+=getPreviousNumberInLine(inputAsInt)\n",
    "    print(s)"
   ]
  },
  {
   "cell_type": "markdown",
   "id": "cfca5f98",
   "metadata": {},
   "source": [
    "Total time: 15 minutes"
   ]
  }
 ],
 "metadata": {
  "kernelspec": {
   "display_name": "Python 3 (ipykernel)",
   "language": "python",
   "name": "python3"
  },
  "language_info": {
   "codemirror_mode": {
    "name": "ipython",
    "version": 3
   },
   "file_extension": ".py",
   "mimetype": "text/x-python",
   "name": "python",
   "nbconvert_exporter": "python",
   "pygments_lexer": "ipython3",
   "version": "3.11.4"
  }
 },
 "nbformat": 4,
 "nbformat_minor": 5
}
